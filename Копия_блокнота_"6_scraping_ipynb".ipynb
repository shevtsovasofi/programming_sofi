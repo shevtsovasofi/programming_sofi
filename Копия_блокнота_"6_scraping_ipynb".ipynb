{
  "nbformat": 4,
  "nbformat_minor": 0,
  "metadata": {
    "colab": {
      "provenance": [],
      "include_colab_link": true
    },
    "kernelspec": {
      "name": "python3",
      "display_name": "Python 3"
    },
    "language_info": {
      "name": "python"
    }
  },
  "cells": [
    {
      "cell_type": "markdown",
      "metadata": {
        "id": "view-in-github",
        "colab_type": "text"
      },
      "source": [
        "<a href=\"https://colab.research.google.com/github/shevtsovasofi/programming_sofi/blob/main/%D0%9A%D0%BE%D0%BF%D0%B8%D1%8F_%D0%B1%D0%BB%D0%BE%D0%BA%D0%BD%D0%BE%D1%82%D0%B0_%226_scraping_ipynb%22.ipynb\" target=\"_parent\"><img src=\"https://colab.research.google.com/assets/colab-badge.svg\" alt=\"Open In Colab\"/></a>"
      ]
    },
    {
      "cell_type": "markdown",
      "source": [
        "**Задание 1**\n",
        "\n",
        "Написать функцию для скрейпинга веб-страниц"
      ],
      "metadata": {
        "id": "vi_saniub3hP"
      }
    },
    {
      "cell_type": "code",
      "source": [
        "!pip install beautifulsoup4 requests #загружаем библиотеку\n",
        "#Импортируйте библиотеки для скрейпинга веб-страниц\n",
        "\n",
        "import requests\n",
        "from bs4 import BeautifulSoup"
      ],
      "metadata": {
        "id": "aWlZpSILeLJN",
        "colab": {
          "base_uri": "https://localhost:8080/"
        },
        "outputId": "9aec701b-7b95-4eb2-edee-1252e7a13660"
      },
      "execution_count": 32,
      "outputs": [
        {
          "output_type": "stream",
          "name": "stdout",
          "text": [
            "Requirement already satisfied: beautifulsoup4 in /usr/local/lib/python3.10/dist-packages (4.12.3)\n",
            "Requirement already satisfied: requests in /usr/local/lib/python3.10/dist-packages (2.32.3)\n",
            "Requirement already satisfied: soupsieve>1.2 in /usr/local/lib/python3.10/dist-packages (from beautifulsoup4) (2.6)\n",
            "Requirement already satisfied: charset-normalizer<4,>=2 in /usr/local/lib/python3.10/dist-packages (from requests) (3.4.0)\n",
            "Requirement already satisfied: idna<4,>=2.5 in /usr/local/lib/python3.10/dist-packages (from requests) (3.10)\n",
            "Requirement already satisfied: urllib3<3,>=1.21.1 in /usr/local/lib/python3.10/dist-packages (from requests) (2.2.3)\n",
            "Requirement already satisfied: certifi>=2017.4.17 in /usr/local/lib/python3.10/dist-packages (from requests) (2024.8.30)\n"
          ]
        }
      ]
    },
    {
      "cell_type": "code",
      "source": [
        "#допишем функцию для скрейпинга\n",
        "\n",
        "def scrape_text_from_url(url, tag, class_=None):\n",
        "    response = response = requests.get(url) #выполним HTML-запрос ###\n",
        "    if response.status_code == 200: #если запрос успешный (возвращается значение 200) ###\n",
        "      soup = BeautifulSoup(response.content, 'html.parser') #парсим контент или текст с помощью BeautifulSoup html.parser ###\n",
        "      paragraphs = soup.find_all(tag, class_) # ищем теги и классы на основании аргументов функции; по умолчанию ищем только тег\n",
        "      text = '' #создаем переменную text строкового типа, куда мы запишем все найденные совпадения ###\n",
        "      for p in paragraphs:  # перебираем элементы\n",
        "            text += p.get_text() + \"\\n\"\n",
        "            text += p.get_text() # извлекаем текстовые данные\n",
        "      return text\n",
        "    else:\n",
        "      print(f\"Не удалось загрузить страницу. Ошибка {response.status_code}\")\n",
        "      return None\n",
        "   ### ваш код здесь: иначе ###\n",
        "      ### ваш код здесь: выводим статус-код и сообщение об ошибке ###"
      ],
      "metadata": {
        "id": "AI-6i4LWeL82"
      },
      "execution_count": 33,
      "outputs": []
    },
    {
      "cell_type": "code",
      "source": [
        "'''\n",
        "Проверяем функцию для скрейпинга: пример 1\n",
        "'''\n",
        "\n",
        "scrape_text_from_url('https://en.wikipedia.org/wiki/Chomsky_hierarchy', 'p')"
      ],
      "metadata": {
        "colab": {
          "base_uri": "https://localhost:8080/",
          "height": 116
        },
        "id": "TrKlqhx5fcGB",
        "outputId": "10ab643f-dbee-4035-9cfe-529653f5efef"
      },
      "execution_count": 34,
      "outputs": [
        {
          "output_type": "execute_result",
          "data": {
            "text/plain": [
              "'The Chomsky hierarchy in the fields of formal language theory, computer science, and linguistics, is a containment hierarchy of classes of formal grammars. A formal grammar describes how to form strings from a language\\'s vocabulary (or alphabet) that are valid according to the language\\'s syntax. The linguist Noam Chomsky theorized that four different classes of formal grammars existed that could generate increasingly complex languages. Each class can also completely generate the language of all inferior classes (set inclusive).\\n\\nThe Chomsky hierarchy in the fields of formal language theory, computer science, and linguistics, is a containment hierarchy of classes of formal grammars. A formal grammar describes how to form strings from a language\\'s vocabulary (or alphabet) that are valid according to the language\\'s syntax. The linguist Noam Chomsky theorized that four different classes of formal grammars existed that could generate increasingly complex languages. Each class can also completely generate the language of all inferior classes (set inclusive).\\nThe general idea of a hierarchy of grammars was first described by Noam Chomsky in \"Three models for the description of language\" during the formalization of transformational-generative grammar (TGG).[1] Marcel-Paul Schützenberger also played a role in the development of the theory of formal languages; the paper \"The algebraic theory of context free languages\"[2] describes the modern hierarchy, including context-free grammars.[3]\\n\\nThe general idea of a hierarchy of grammars was first described by Noam Chomsky in \"Three models for the description of language\" during the formalization of transformational-generative grammar (TGG).[1] Marcel-Paul Schützenberger also played a role in the development of the theory of formal languages; the paper \"The algebraic theory of context free languages\"[2] describes the modern hierarchy, including context-free grammars.[3]\\nIndependently, alongside linguists, mathematicians were developing models of computation (via automata). Parsing a sentence in a language is similar to computation, and the grammars described by Chomsky proved to both resemble and be equivalent in computational power to various machine models.[4]\\n\\nIndependently, alongside linguists, mathematicians were developing models of computation (via automata). Parsing a sentence in a language is similar to computation, and the grammars described by Chomsky proved to both resemble and be equivalent in computational power to various machine models.[4]\\nThe following table summarizes each of Chomsky\\'s four types of grammars, the class of language it generates, the type of automaton that recognizes it, and the form its rules must have. The classes are defined by the constraints on the productions rules.\\n\\nThe following table summarizes each of Chomsky\\'s four types of grammars, the class of language it generates, the type of automaton that recognizes it, and the form its rules must have. The classes are defined by the constraints on the productions rules.\\nNote that the set of grammars corresponding to recursive languages is not a member of this hierarchy; these would be properly between Type-0 and Type-1.\\n\\nNote that the set of grammars corresponding to recursive languages is not a member of this hierarchy; these would be properly between Type-0 and Type-1.\\nEvery regular language is context-free, every context-free language is context-sensitive, every context-sensitive language is recursive and every recursive language is recursively enumerable. These are all proper inclusions, meaning that there exist recursively enumerable languages that are not context-sensitive, context-sensitive languages that are not context-free and context-free languages that are not regular.[7]\\n\\nEvery regular language is context-free, every context-free language is context-sensitive, every context-sensitive language is recursive and every recursive language is recursively enumerable. These are all proper inclusions, meaning that there exist recursively enumerable languages that are not context-sensitive, context-sensitive languages that are not context-free and context-free languages that are not regular.[7]\\nType-3 grammars generate the regular languages. Such a grammar restricts its rules to a single nonterminal on the left-hand side and a right-hand side consisting of a single terminal, possibly followed by a single nonterminal, in which case the grammar is right regular. Alternatively, all the rules can have their right-hand sides consist of a single terminal, possibly preceded by a single nonterminal (left regular). These generate the same languages. However, if left-regular rules and right-regular rules are combined, the language need no longer be regular. The rule \\n\\n\\n\\nS\\n→\\nε\\n\\n\\n{\\\\displaystyle S\\\\rightarrow \\\\varepsilon }\\n\\n is also allowed here if \\n\\n\\n\\nS\\n\\n\\n{\\\\displaystyle S}\\n\\n does not appear on the right side of any rule. These languages are exactly all languages that can be decided by a finite-state automaton. Additionally, this family of formal languages can be obtained by regular expressions. Regular languages are commonly used to define search patterns and the lexical structure of programming languages.\\n\\nType-3 grammars generate the regular languages. Such a grammar restricts its rules to a single nonterminal on the left-hand side and a right-hand side consisting of a single terminal, possibly followed by a single nonterminal, in which case the grammar is right regular. Alternatively, all the rules can have their right-hand sides consist of a single terminal, possibly preceded by a single nonterminal (left regular). These generate the same languages. However, if left-regular rules and right-regular rules are combined, the language need no longer be regular. The rule \\n\\n\\n\\nS\\n→\\nε\\n\\n\\n{\\\\displaystyle S\\\\rightarrow \\\\varepsilon }\\n\\n is also allowed here if \\n\\n\\n\\nS\\n\\n\\n{\\\\displaystyle S}\\n\\n does not appear on the right side of any rule. These languages are exactly all languages that can be decided by a finite-state automaton. Additionally, this family of formal languages can be obtained by regular expressions. Regular languages are commonly used to define search patterns and the lexical structure of programming languages.\\nFor example, the regular language \\n\\n\\n\\nL\\n=\\n{\\n\\na\\n\\nn\\n\\n\\n\\n|\\n\\nn\\n>\\n0\\n}\\n\\n\\n{\\\\displaystyle L=\\\\{a^{n}|n>0\\\\}}\\n\\n is generated by the Type-3 grammar \\n\\n\\n\\nG\\n=\\n(\\n{\\nS\\n}\\n,\\n{\\na\\n,\\nb\\n}\\n,\\nP\\n,\\nS\\n)\\n\\n\\n{\\\\displaystyle G=(\\\\{S\\\\},\\\\{a,b\\\\},P,S)}\\n\\n with the productions \\n\\n\\n\\nP\\n\\n\\n{\\\\displaystyle P}\\n\\n being the following.\\n\\nFor example, the regular language \\n\\n\\n\\nL\\n=\\n{\\n\\na\\n\\nn\\n\\n\\n\\n|\\n\\nn\\n>\\n0\\n}\\n\\n\\n{\\\\displaystyle L=\\\\{a^{n}|n>0\\\\}}\\n\\n is generated by the Type-3 grammar \\n\\n\\n\\nG\\n=\\n(\\n{\\nS\\n}\\n,\\n{\\na\\n,\\nb\\n}\\n,\\nP\\n,\\nS\\n)\\n\\n\\n{\\\\displaystyle G=(\\\\{S\\\\},\\\\{a,b\\\\},P,S)}\\n\\n with the productions \\n\\n\\n\\nP\\n\\n\\n{\\\\displaystyle P}\\n\\n being the following.\\nType-2 grammars generate the context-free languages. These are defined by rules of the form \\n\\n\\n\\nA\\n→\\nα\\n\\n\\n{\\\\displaystyle A\\\\rightarrow \\\\alpha }\\n\\n with \\n\\n\\n\\nA\\n\\n\\n{\\\\displaystyle A}\\n\\n being a nonterminal and \\n\\n\\n\\nα\\n\\n\\n{\\\\displaystyle \\\\alpha }\\n\\n being a string of terminals and/or nonterminals. These languages are exactly all languages that can be recognized by a non-deterministic pushdown automaton. Context-free languages—or rather its subset of deterministic context-free languages—are the theoretical basis for the phrase structure of most programming languages, though their syntax also includes context-sensitive name resolution due to declarations and scope. Often a subset of grammars is used to make parsing easier, such as by an LL parser.\\n\\nType-2 grammars generate the context-free languages. These are defined by rules of the form \\n\\n\\n\\nA\\n→\\nα\\n\\n\\n{\\\\displaystyle A\\\\rightarrow \\\\alpha }\\n\\n with \\n\\n\\n\\nA\\n\\n\\n{\\\\displaystyle A}\\n\\n being a nonterminal and \\n\\n\\n\\nα\\n\\n\\n{\\\\displaystyle \\\\alpha }\\n\\n being a string of terminals and/or nonterminals. These languages are exactly all languages that can be recognized by a non-deterministic pushdown automaton. Context-free languages—or rather its subset of deterministic context-free languages—are the theoretical basis for the phrase structure of most programming languages, though their syntax also includes context-sensitive name resolution due to declarations and scope. Often a subset of grammars is used to make parsing easier, such as by an LL parser.\\nFor example, the context-free language  \\n\\n\\n\\nL\\n=\\n{\\n\\na\\n\\nn\\n\\n\\n\\nb\\n\\nn\\n\\n\\n\\n|\\n\\nn\\n>\\n0\\n}\\n\\n\\n{\\\\displaystyle L=\\\\{a^{n}b^{n}|n>0\\\\}}\\n\\n is generated by the Type-2 grammar \\n\\n\\n\\nG\\n=\\n(\\n{\\nS\\n}\\n,\\n{\\na\\n,\\nb\\n}\\n,\\nP\\n,\\nS\\n)\\n\\n\\n{\\\\displaystyle G=(\\\\{S\\\\},\\\\{a,b\\\\},P,S)}\\n\\n with the productions \\n\\n\\n\\nP\\n\\n\\n{\\\\displaystyle P}\\n\\n being the following.\\n\\nFor example, the context-free language  \\n\\n\\n\\nL\\n=\\n{\\n\\na\\n\\nn\\n\\n\\n\\nb\\n\\nn\\n\\n\\n\\n|\\n\\nn\\n>\\n0\\n}\\n\\n\\n{\\\\displaystyle L=\\\\{a^{n}b^{n}|n>0\\\\}}\\n\\n is generated by the Type-2 grammar \\n\\n\\n\\nG\\n=\\n(\\n{\\nS\\n}\\n,\\n{\\na\\n,\\nb\\n}\\n,\\nP\\n,\\nS\\n)\\n\\n\\n{\\\\displaystyle G=(\\\\{S\\\\},\\\\{a,b\\\\},P,S)}\\n\\n with the productions \\n\\n\\n\\nP\\n\\n\\n{\\\\displaystyle P}\\n\\n being the following.\\nThe language is context-free but not regular (by the pumping lemma for regular languages).\\n\\nThe language is context-free but not regular (by the pumping lemma for regular languages).\\nType-1 grammars generate context-sensitive languages. These grammars have rules of the form \\n\\n\\n\\nα\\nA\\nβ\\n→\\nα\\nγ\\nβ\\n\\n\\n{\\\\displaystyle \\\\alpha A\\\\beta \\\\rightarrow \\\\alpha \\\\gamma \\\\beta }\\n\\n with \\n\\n\\n\\nA\\n\\n\\n{\\\\displaystyle A}\\n\\n a nonterminal and \\n\\n\\n\\nα\\n\\n\\n{\\\\displaystyle \\\\alpha }\\n\\n, \\n\\n\\n\\nβ\\n\\n\\n{\\\\displaystyle \\\\beta }\\n\\n and \\n\\n\\n\\nγ\\n\\n\\n{\\\\displaystyle \\\\gamma }\\n\\n strings of terminals and/or nonterminals. The strings \\n\\n\\n\\nα\\n\\n\\n{\\\\displaystyle \\\\alpha }\\n\\n and \\n\\n\\n\\nβ\\n\\n\\n{\\\\displaystyle \\\\beta }\\n\\n may be empty, but \\n\\n\\n\\nγ\\n\\n\\n{\\\\displaystyle \\\\gamma }\\n\\n must be nonempty.  The rule \\n\\n\\n\\nS\\n→\\nϵ\\n\\n\\n{\\\\displaystyle S\\\\rightarrow \\\\epsilon }\\n\\n is allowed if \\n\\n\\n\\nS\\n\\n\\n{\\\\displaystyle S}\\n\\n does not appear on the right side of any rule.  The languages described by these grammars are exactly all languages that can be recognized by a linear bounded automaton (a nondeterministic Turing machine whose tape is bounded by a constant times the length of the input.)\\n\\nType-1 grammars generate context-sensitive languages. These grammars have rules of the form \\n\\n\\n\\nα\\nA\\nβ\\n→\\nα\\nγ\\nβ\\n\\n\\n{\\\\displaystyle \\\\alpha A\\\\beta \\\\rightarrow \\\\alpha \\\\gamma \\\\beta }\\n\\n with \\n\\n\\n\\nA\\n\\n\\n{\\\\displaystyle A}\\n\\n a nonterminal and \\n\\n\\n\\nα\\n\\n\\n{\\\\displaystyle \\\\alpha }\\n\\n, \\n\\n\\n\\nβ\\n\\n\\n{\\\\displaystyle \\\\beta }\\n\\n and \\n\\n\\n\\nγ\\n\\n\\n{\\\\displaystyle \\\\gamma }\\n\\n strings of terminals and/or nonterminals. The strings \\n\\n\\n\\nα\\n\\n\\n{\\\\displaystyle \\\\alpha }\\n\\n and \\n\\n\\n\\nβ\\n\\n\\n{\\\\displaystyle \\\\beta }\\n\\n may be empty, but \\n\\n\\n\\nγ\\n\\n\\n{\\\\displaystyle \\\\gamma }\\n\\n must be nonempty.  The rule \\n\\n\\n\\nS\\n→\\nϵ\\n\\n\\n{\\\\displaystyle S\\\\rightarrow \\\\epsilon }\\n\\n is allowed if \\n\\n\\n\\nS\\n\\n\\n{\\\\displaystyle S}\\n\\n does not appear on the right side of any rule.  The languages described by these grammars are exactly all languages that can be recognized by a linear bounded automaton (a nondeterministic Turing machine whose tape is bounded by a constant times the length of the input.)\\nFor example, the context-sensitive language  \\n\\n\\n\\nL\\n=\\n{\\n\\na\\n\\nn\\n\\n\\n\\nb\\n\\nn\\n\\n\\n\\nc\\n\\nn\\n\\n\\n\\n|\\n\\nn\\n>\\n0\\n}\\n\\n\\n{\\\\displaystyle L=\\\\{a^{n}b^{n}c^{n}|n>0\\\\}}\\n\\n is generated by the Type-1 grammar \\n\\n\\n\\nG\\n=\\n(\\n{\\nS\\n,\\nA\\n,\\nB\\n,\\nC\\n,\\nW\\n,\\nZ\\n}\\n,\\n{\\na\\n,\\nb\\n}\\n,\\nP\\n,\\nS\\n)\\n\\n\\n{\\\\displaystyle G=(\\\\{S,A,B,C,W,Z\\\\},\\\\{a,b\\\\},P,S)}\\n\\n with the productions \\n\\n\\n\\nP\\n\\n\\n{\\\\displaystyle P}\\n\\n being the following.\\n\\nFor example, the context-sensitive language  \\n\\n\\n\\nL\\n=\\n{\\n\\na\\n\\nn\\n\\n\\n\\nb\\n\\nn\\n\\n\\n\\nc\\n\\nn\\n\\n\\n\\n|\\n\\nn\\n>\\n0\\n}\\n\\n\\n{\\\\displaystyle L=\\\\{a^{n}b^{n}c^{n}|n>0\\\\}}\\n\\n is generated by the Type-1 grammar \\n\\n\\n\\nG\\n=\\n(\\n{\\nS\\n,\\nA\\n,\\nB\\n,\\nC\\n,\\nW\\n,\\nZ\\n}\\n,\\n{\\na\\n,\\nb\\n}\\n,\\nP\\n,\\nS\\n)\\n\\n\\n{\\\\displaystyle G=(\\\\{S,A,B,C,W,Z\\\\},\\\\{a,b\\\\},P,S)}\\n\\n with the productions \\n\\n\\n\\nP\\n\\n\\n{\\\\displaystyle P}\\n\\n being the following.\\nThe language is context-sensitive but not context-free (by the pumping lemma for context-free languages).\\nA proof that this grammar generates \\n\\n\\n\\nL\\n=\\n{\\n\\na\\n\\nn\\n\\n\\n\\nb\\n\\nn\\n\\n\\n\\nc\\n\\nn\\n\\n\\n\\n|\\n\\nn\\n>\\n0\\n}\\n\\n\\n{\\\\displaystyle L=\\\\{a^{n}b^{n}c^{n}|n>0\\\\}}\\n\\n is sketched in the article on Context-sensitive grammars.\\n\\nThe language is context-sensitive but not context-free (by the pumping lemma for context-free languages).\\nA proof that this grammar generates \\n\\n\\n\\nL\\n=\\n{\\n\\na\\n\\nn\\n\\n\\n\\nb\\n\\nn\\n\\n\\n\\nc\\n\\nn\\n\\n\\n\\n|\\n\\nn\\n>\\n0\\n}\\n\\n\\n{\\\\displaystyle L=\\\\{a^{n}b^{n}c^{n}|n>0\\\\}}\\n\\n is sketched in the article on Context-sensitive grammars.\\nType-0 grammars include all formal grammars. There are no constraints on the productions rules. They generate exactly all languages that can be recognized by a Turing machine, thus any language that is possible to be generated can be generated by a Type-0 grammar.[8] These languages are also known as the recursively enumerable or Turing-recognizable languages.[8] Note that this is different from the recursive languages, which can be decided by an always-halting Turing machine.\\n\\nType-0 grammars include all formal grammars. There are no constraints on the productions rules. They generate exactly all languages that can be recognized by a Turing machine, thus any language that is possible to be generated can be generated by a Type-0 grammar.[8] These languages are also known as the recursively enumerable or Turing-recognizable languages.[8] Note that this is different from the recursive languages, which can be decided by an always-halting Turing machine.\\n'"
            ],
            "application/vnd.google.colaboratory.intrinsic+json": {
              "type": "string"
            }
          },
          "metadata": {},
          "execution_count": 34
        }
      ]
    },
    {
      "cell_type": "code",
      "source": [
        "'''\n",
        "Проверяем функцию для скрейпинга: пример 2\n",
        "'''\n",
        "\n",
        "scrape_text_from_url('https://www.rottentomatoes.com/m/civil_war_2024/reviews', 'p', 'review-text')"
      ],
      "metadata": {
        "colab": {
          "base_uri": "https://localhost:8080/",
          "height": 116
        },
        "id": "tz6rp1Gsfi2K",
        "outputId": "c1faec95-cfd1-4ceb-ff46-b4ec4037e4ee"
      },
      "execution_count": 35,
      "outputs": [
        {
          "output_type": "execute_result",
          "data": {
            "text/plain": [
              "\"Civil War is not a film about why extreme division happens; it’s about the personal impact of division at its worst.\\nCivil War is not a film about why extreme division happens; it’s about the personal impact of division at its worst.A staggering and frequently brilliant film looking at a hopefully just fictionalized version of America destroying itself from within.\\nA staggering and frequently brilliant film looking at a hopefully just fictionalized version of America destroying itself from within.Garland seems poised to be make political points, to show how our current political dysfunction could lead to something far worse… but he never follows through.\\nGarland seems poised to be make political points, to show how our current political dysfunction could lead to something far worse… but he never follows through.This violent tale of anaesthetised reporters is just a war yarn with a twist.\\nThis violent tale of anaesthetised reporters is just a war yarn with a twist.This easy digital fakeness is there to get the audience used to it...\\nThis easy digital fakeness is there to get the audience used to it...Rather than glorifying war, the film is artful and meditative, making us feel the pointlessness of this violence, how unglamorous and exhausting and unheroic it is.\\nRather than glorifying war, the film is artful and meditative, making us feel the pointlessness of this violence, how unglamorous and exhausting and unheroic it is.It’s not always subtle, and in some cases it’s even frustrating with some of its narrative decisions, but nothing can deny its uncanny ability to leave you horrified by how war, civil or otherwise, can be truly monstrous from any humanist angle.\\nIt’s not always subtle, and in some cases it’s even frustrating with some of its narrative decisions, but nothing can deny its uncanny ability to leave you horrified by how war, civil or otherwise, can be truly monstrous from any humanist angle.The film isn’t very deep, but it does paint the grimmest picture possible of a divided nation with bodies bodies bodies everywhere.\\nThe film isn’t very deep, but it does paint the grimmest picture possible of a divided nation with bodies bodies bodies everywhere.With a career best performance from Kirsten Dunst and a pulsating sound design, Civil War is a thrilling body of work that should be talked about in journalism circles.\\nWith a career best performance from Kirsten Dunst and a pulsating sound design, Civil War is a thrilling body of work that should be talked about in journalism circles.Garland's decision to forego any narrative antecedent makes the predictable ending that much more of a bummer. Civil War is a more muscular film than Men. Like that movie, however, it mistakes broad brush strokes for insight.\\nGarland's decision to forego any narrative antecedent makes the predictable ending that much more of a bummer. Civil War is a more muscular film than Men. Like that movie, however, it mistakes broad brush strokes for insight.Audiences expecting a meticulously-crafted backstory for how this war started and who the players are will be sorely disappointed.\\nAudiences expecting a meticulously-crafted backstory for how this war started and who the players are will be sorely disappointed.This is another war-is-awful movie, tracing the experiences of a team of photojournalists who throw themselves into the firing line. And even without much of a point, it's rivetingly well-made.\\nThis is another war-is-awful movie, tracing the experiences of a team of photojournalists who throw themselves into the firing line. And even without much of a point, it's rivetingly well-made.Garland uses violence as a means to a much larger end that should leave moviegoers disturbed and, at times, sickened; that should leave us challenged to think rather than feeling any kind of welcome catharsis. The final shot ... is stunning in its irony.\\nGarland uses violence as a means to a much larger end that should leave moviegoers disturbed and, at times, sickened; that should leave us challenged to think rather than feeling any kind of welcome catharsis. The final shot ... is stunning in its irony.The film seems caught between wanting to be exciting and devastating, as it threatens to turn its captivating story into another generic shoot-them-up war film, just on a grander scale.\\nThe film seems caught between wanting to be exciting and devastating, as it threatens to turn its captivating story into another generic shoot-them-up war film, just on a grander scale.Civil War is not a polemic, but it is a mirror to the USA’s political crisis.\\nCivil War is not a polemic, but it is a mirror to the USA’s political crisis.If beauty is the sole standard for their work, then the film’s view of war photography is as an aesthetic death cult.\\nIf beauty is the sole standard for their work, then the film’s view of war photography is as an aesthetic death cult.Garland appears to make movies less for audiences than as think pieces, and, given the esteem in which his films are held, the ploy has paid off handsomely.\\nGarland appears to make movies less for audiences than as think pieces, and, given the esteem in which his films are held, the ploy has paid off handsomely.An urgent film about a barely-distant future.\\nAn urgent film about a barely-distant future.There’s a cautionary message then in the madness: stop or perish; the choice is entirely ours.\\nThere’s a cautionary message then in the madness: stop or perish; the choice is entirely ours.Civil War is a reflection of what you bring to it. That puts the impetus on the viewer to meet the film on its level. Some won’t like what they find. The nature of that discussion is what will ultimately make this film immortal.\\nCivil War is a reflection of what you bring to it. That puts the impetus on the viewer to meet the film on its level. Some won’t like what they find. The nature of that discussion is what will ultimately make this film immortal.\""
            ],
            "application/vnd.google.colaboratory.intrinsic+json": {
              "type": "string"
            }
          },
          "metadata": {},
          "execution_count": 35
        }
      ]
    },
    {
      "cell_type": "markdown",
      "source": [
        "**Задание 2**\n",
        "Написать функцию для сентимент-анализа"
      ],
      "metadata": {
        "id": "4yAvz7QEb8yh"
      }
    },
    {
      "cell_type": "code",
      "source": [
        "'''\n",
        "Загружаем списки слов с положительным и отрицательным значением\n",
        "'''\n",
        "\n",
        "!wget https://raw.githubusercontent.com/vifirsanova/hse-python-course/main/data/neg.txt\n",
        "!wget https://raw.githubusercontent.com/vifirsanova/hse-python-course/main/data/pos.txt\n",
        "\n",
        "with open('neg.txt') as f:\n",
        "  neg = f.read()\n",
        "\n",
        "with open('pos.txt') as f:\n",
        "  pos = f.read()"
      ],
      "metadata": {
        "colab": {
          "base_uri": "https://localhost:8080/"
        },
        "id": "AVqGhbkssw0m",
        "outputId": "f6b42837-2dd0-4036-f988-d5c1e74e89e7"
      },
      "execution_count": 36,
      "outputs": [
        {
          "output_type": "stream",
          "name": "stdout",
          "text": [
            "--2024-12-11 18:37:24--  https://raw.githubusercontent.com/vifirsanova/hse-python-course/main/data/neg.txt\n",
            "Resolving raw.githubusercontent.com (raw.githubusercontent.com)... 185.199.111.133, 185.199.109.133, 185.199.110.133, ...\n",
            "Connecting to raw.githubusercontent.com (raw.githubusercontent.com)|185.199.111.133|:443... connected.\n",
            "HTTP request sent, awaiting response... 200 OK\n",
            "Length: 44759 (44K) [text/plain]\n",
            "Saving to: ‘neg.txt.3’\n",
            "\n",
            "neg.txt.3           100%[===================>]  43.71K  --.-KB/s    in 0.008s  \n",
            "\n",
            "2024-12-11 18:37:24 (5.14 MB/s) - ‘neg.txt.3’ saved [44759/44759]\n",
            "\n",
            "--2024-12-11 18:37:24--  https://raw.githubusercontent.com/vifirsanova/hse-python-course/main/data/pos.txt\n",
            "Resolving raw.githubusercontent.com (raw.githubusercontent.com)... 185.199.108.133, 185.199.109.133, 185.199.110.133, ...\n",
            "Connecting to raw.githubusercontent.com (raw.githubusercontent.com)|185.199.108.133|:443... connected.\n",
            "HTTP request sent, awaiting response... 200 OK\n",
            "Length: 19093 (19K) [text/plain]\n",
            "Saving to: ‘pos.txt.3’\n",
            "\n",
            "pos.txt.3           100%[===================>]  18.65K  --.-KB/s    in 0.001s  \n",
            "\n",
            "2024-12-11 18:37:24 (20.9 MB/s) - ‘pos.txt.3’ saved [19093/19093]\n",
            "\n"
          ]
        }
      ]
    },
    {
      "cell_type": "code",
      "source": [
        "'''\n",
        "Создайте списки слов, разделив строку по знаку \\n\n",
        "'''\n",
        "\n",
        "pos_list, neg_list = pos.split(\"\\n\"), neg.split(\"\\n\")\n",
        "\n",
        "pos_list[:10]"
      ],
      "metadata": {
        "colab": {
          "base_uri": "https://localhost:8080/"
        },
        "id": "vquXeXlDvG_Z",
        "outputId": "b29f2bb8-562e-459e-c467-05d9d4a3c9a0"
      },
      "execution_count": 37,
      "outputs": [
        {
          "output_type": "execute_result",
          "data": {
            "text/plain": [
              "['a+',\n",
              " 'abound',\n",
              " 'abounds',\n",
              " 'abundance',\n",
              " 'abundant',\n",
              " 'accessable',\n",
              " 'accessible',\n",
              " 'acclaim',\n",
              " 'acclaimed',\n",
              " 'acclamation']"
            ]
          },
          "metadata": {},
          "execution_count": 37
        }
      ]
    },
    {
      "cell_type": "code",
      "source": [
        "'''\n",
        "Допишите функцию для анализа тональности\n",
        "Функция принимает на вход 3 аргумента:\n",
        "  - переменную text с текстов для анализа\n",
        "  - 2 списка со словами для анализа тональности: positive_words и negative_words\n",
        "'''\n",
        "import spacy\n",
        "\n",
        "nlp = spacy.load(\"en_core_web_sm\")\n",
        "\n",
        "def analyze_sentiment (text, positive_words, negative_words):\n",
        "    doc = nlp(text.lower())\n",
        "    words = [token.text for token in doc if not token.is_stop and not token.is_punct]\n",
        "\n",
        "    positive_count = sum(1 for word in words if word in positive_words) #скор тональности\n",
        "    negative_count = sum(1 for word in words if word in negative_words)\n",
        "\n",
        "    if positive_count > negative_count: #определяем тональность\n",
        "        return 'positive'\n",
        "    elif negative_count > positive_count:\n",
        "        return 'negative'\n",
        "    else:\n",
        "        return 'neutral'\n"
      ],
      "metadata": {
        "id": "oZ7AmEM1vlL4"
      },
      "execution_count": 38,
      "outputs": []
    },
    {
      "cell_type": "code",
      "source": [
        "'''\n",
        "Проверяем функцию для анализа тональности: пример 1\n",
        "'''\n",
        "\n",
        "result = analyze_sentiment('This sample text is awesome!', pos_list, neg_list)\n",
        "print(result)"
      ],
      "metadata": {
        "colab": {
          "base_uri": "https://localhost:8080/"
        },
        "id": "Y31yIOJ6xXS_",
        "outputId": "821e481a-92be-42da-be21-0ebf77453b08"
      },
      "execution_count": 39,
      "outputs": [
        {
          "output_type": "stream",
          "name": "stdout",
          "text": [
            "positive\n"
          ]
        }
      ]
    },
    {
      "cell_type": "code",
      "source": [
        "'''\n",
        "Проверяем функцию для анализа тональности: пример 2\n",
        "'''\n",
        "\n",
        "analyze_sentiment('I hate this sample text.', pos_list, neg_list)"
      ],
      "metadata": {
        "colab": {
          "base_uri": "https://localhost:8080/",
          "height": 34
        },
        "id": "r1ubjl49x1qX",
        "outputId": "d2580e74-5a82-4599-f399-781978695c6e"
      },
      "execution_count": 40,
      "outputs": [
        {
          "output_type": "execute_result",
          "data": {
            "text/plain": [
              "'negative'"
            ],
            "application/vnd.google.colaboratory.intrinsic+json": {
              "type": "string"
            }
          },
          "metadata": {},
          "execution_count": 40
        }
      ]
    },
    {
      "cell_type": "code",
      "source": [
        "'''\n",
        "Проверяем функцию для анализа тональности: пример 3\n",
        "'''\n",
        "\n",
        "analyze_sentiment('We love and hate this sample text at the same time!', pos_list, neg_list)"
      ],
      "metadata": {
        "colab": {
          "base_uri": "https://localhost:8080/",
          "height": 34
        },
        "id": "lh7-EgSYx7vb",
        "outputId": "0a8ae32e-f6fc-4e80-f90a-bbd23bb12e36"
      },
      "execution_count": 41,
      "outputs": [
        {
          "output_type": "execute_result",
          "data": {
            "text/plain": [
              "'neutral'"
            ],
            "application/vnd.google.colaboratory.intrinsic+json": {
              "type": "string"
            }
          },
          "metadata": {},
          "execution_count": 41
        }
      ]
    },
    {
      "cell_type": "markdown",
      "source": [
        "**Задача 3**\n",
        "\n",
        "Написать функцию для вывода сентимент-скоров"
      ],
      "metadata": {
        "id": "pQe6yWNicClB"
      }
    },
    {
      "cell_type": "code",
      "source": [
        "'''\n",
        "Допишите функцию для вывода скоров по заданному URL\n",
        "'''\n",
        "\n",
        "def analyze(positive_words, negative_words, url, tag, class_=None):\n",
        "  scraped_text = scrape_text_from_url(url, tag, class_) #примените функцию scrape_text_from_url ###\n",
        "  sentences = [sentence.strip() for sentence in scraped_text.split('.') if sentence.strip()] #сегментируйте текст по предложениям (через точку) ###\n",
        "  sentiments = [] #создаем пустой список, куда запишем скоры ###\n",
        "  for sentence in sentences: #начинаем перебор по предложениям ###\n",
        "    score = analyze_sentiment(sentence, positive_words, negative_words) #получаем скор для данного предложения с помощью функции analyze_sentiment ###\n",
        "    sentiments.append(score) #добавляем скор в созданный список ###\n",
        "  return sentiments"
      ],
      "metadata": {
        "id": "2x1O80L70uDG"
      },
      "execution_count": 42,
      "outputs": []
    },
    {
      "cell_type": "code",
      "source": [
        "'''\n",
        "Тест 1\n",
        "'''\n",
        "\n",
        "analyze(url='https://en.wikipedia.org/wiki/Chomsky_hierarchy', tag='p', positive_words=pos, negative_words=neg)[:10]"
      ],
      "metadata": {
        "colab": {
          "base_uri": "https://localhost:8080/"
        },
        "id": "kc2UL_222Mle",
        "outputId": "6fea045e-9554-49dd-d448-20da53250cb8"
      },
      "execution_count": 43,
      "outputs": [
        {
          "output_type": "execute_result",
          "data": {
            "text/plain": [
              "['neutral',\n",
              " 'negative',\n",
              " 'negative',\n",
              " 'negative',\n",
              " 'neutral',\n",
              " 'negative',\n",
              " 'negative',\n",
              " 'negative',\n",
              " 'positive',\n",
              " 'positive']"
            ]
          },
          "metadata": {},
          "execution_count": 43
        }
      ]
    },
    {
      "cell_type": "code",
      "source": [
        "'''\n",
        "Тест 2\n",
        "'''\n",
        "\n",
        "analyze(url='https://www.rottentomatoes.com/m/civil_war_2024/reviews', tag='p', class_='review-text', positive_words=pos, negative_words=neg)[:10]"
      ],
      "metadata": {
        "colab": {
          "base_uri": "https://localhost:8080/"
        },
        "id": "C9XzHV953Aux",
        "outputId": "7041f4c6-ee21-45fc-98f9-f0a4c88f3a2f"
      },
      "execution_count": 44,
      "outputs": [
        {
          "output_type": "execute_result",
          "data": {
            "text/plain": [
              "['negative',\n",
              " 'negative',\n",
              " 'neutral',\n",
              " 'neutral',\n",
              " 'negative',\n",
              " 'negative',\n",
              " 'negative',\n",
              " 'negative',\n",
              " 'neutral',\n",
              " 'neutral']"
            ]
          },
          "metadata": {},
          "execution_count": 44
        }
      ]
    },
    {
      "cell_type": "markdown",
      "source": [
        "**Задача 4**\n",
        "\n",
        "Визуализировать результаты анализа"
      ],
      "metadata": {
        "id": "-IkiyB5ldbt9"
      }
    },
    {
      "cell_type": "code",
      "execution_count": 45,
      "metadata": {
        "colab": {
          "base_uri": "https://localhost:8080/"
        },
        "id": "zqEXVu-VZcUG",
        "outputId": "a0fd2d1a-93fb-41d8-e888-0840c9172c34"
      },
      "outputs": [
        {
          "output_type": "execute_result",
          "data": {
            "text/plain": [
              "Counter({'neutral': 22, 'negative': 52, 'positive': 12})"
            ]
          },
          "metadata": {},
          "execution_count": 45
        }
      ],
      "source": [
        "'''\n",
        "Создаем частотный словарь с помощью библиотеки Counter.\n",
        "Можно выбрать другие веб-страницы для анализа!\n",
        "'''\n",
        "\n",
        "from collections import Counter\n",
        "\n",
        "sample1 = Counter(analyze(url='https://en.wikipedia.org/wiki/Chomsky_hierarchy', tag='p', positive_words=pos, negative_words=neg))\n",
        "sample2 = Counter(analyze(url='https://www.rottentomatoes.com/m/civil_war_2024/reviews', tag='p', class_='review-text', positive_words=pos, negative_words=neg))\n",
        "\n",
        "sample1"
      ]
    },
    {
      "cell_type": "code",
      "source": [
        "!pip install matplotlib"
      ],
      "metadata": {
        "colab": {
          "base_uri": "https://localhost:8080/"
        },
        "id": "ZwPNNEynUw9K",
        "outputId": "ac1170e4-9f00-4ea7-8b83-cbac795e143a"
      },
      "execution_count": 46,
      "outputs": [
        {
          "output_type": "stream",
          "name": "stdout",
          "text": [
            "Requirement already satisfied: matplotlib in /usr/local/lib/python3.10/dist-packages (3.8.0)\n",
            "Requirement already satisfied: contourpy>=1.0.1 in /usr/local/lib/python3.10/dist-packages (from matplotlib) (1.3.1)\n",
            "Requirement already satisfied: cycler>=0.10 in /usr/local/lib/python3.10/dist-packages (from matplotlib) (0.12.1)\n",
            "Requirement already satisfied: fonttools>=4.22.0 in /usr/local/lib/python3.10/dist-packages (from matplotlib) (4.55.1)\n",
            "Requirement already satisfied: kiwisolver>=1.0.1 in /usr/local/lib/python3.10/dist-packages (from matplotlib) (1.4.7)\n",
            "Requirement already satisfied: numpy<2,>=1.21 in /usr/local/lib/python3.10/dist-packages (from matplotlib) (1.26.4)\n",
            "Requirement already satisfied: packaging>=20.0 in /usr/local/lib/python3.10/dist-packages (from matplotlib) (24.2)\n",
            "Requirement already satisfied: pillow>=6.2.0 in /usr/local/lib/python3.10/dist-packages (from matplotlib) (11.0.0)\n",
            "Requirement already satisfied: pyparsing>=2.3.1 in /usr/local/lib/python3.10/dist-packages (from matplotlib) (3.2.0)\n",
            "Requirement already satisfied: python-dateutil>=2.7 in /usr/local/lib/python3.10/dist-packages (from matplotlib) (2.8.2)\n",
            "Requirement already satisfied: six>=1.5 in /usr/local/lib/python3.10/dist-packages (from python-dateutil>=2.7->matplotlib) (1.16.0)\n"
          ]
        }
      ]
    },
    {
      "cell_type": "code",
      "source": [
        "'''\n",
        "Создаем визуализацию: попробуйте использование новые данные (данные других url)\n",
        "'''\n",
        "\n",
        "import numpy as np\n",
        "import pandas as pd\n",
        "import matplotlib.pyplot as plt\n",
        "\n",
        "\n",
        "df1 = pd.DataFrame.from_dict(sample1, orient='index', columns=['Wikipedia'])\n",
        "df2 = pd.DataFrame.from_dict(sample2, orient='index', columns=['Rotten'])\n",
        "\n",
        "fig, ax = plt.subplots(ncols=2)\n",
        "\n",
        "ax[0] = df1.plot.bar(ax=ax[0])\n",
        "ax[1] = df2.plot.bar(ax=ax[1], color='orange')"
      ],
      "metadata": {
        "colab": {
          "base_uri": "https://localhost:8080/",
          "height": 476
        },
        "id": "1BIF0uT84bKN",
        "outputId": "c036dd4f-6e8e-454b-cd7a-85e8b07788ab"
      },
      "execution_count": 47,
      "outputs": [
        {
          "output_type": "display_data",
          "data": {
            "text/plain": [
              "<Figure size 640x480 with 2 Axes>"
            ],
            "image/png": "[encoded data removed]"
          },
          "metadata": {}
        }
      ]
    },
    {
      "cell_type": "markdown",
      "source": [
        "**Задача 5**\n",
        "\n",
        "Соберите все 3 функции в одной ячейке ниже. Проанализируйте получшившийся код. Сделайте ревью!\n",
        "\n",
        "Попробуйте сделать **рефакторинг**: найти повторы в коде, избыточные конструкции и заменить их на более простые и питоничные решения. Рефакторинг ускоряет выполнение кода и упрощает его чтение.\n",
        "\n",
        "Улучшите код, добавьте строчки для вывода промежуточных и итоговых результатов; запустите ячейку.\n",
        "\n",
        "Это творческое задание, правильных решений нет - главное, чтобы код работал! :)\n",
        "\n",
        "Не забудьте закомментировать свои изменения."
      ],
      "metadata": {
        "id": "Y2SS-kAkcZcW"
      }
    },
    {
      "cell_type": "code",
      "source": [
        "import requests #все импорты в начало - этот для загрузки данных с веб страниц\n",
        "from bs4 import BeautifulSoup # обработка и парсинг HTML кодов\n",
        "import spacy\n",
        "from collections import Counter\n",
        "import pandas as pd\n",
        "import matplotlib.pyplot as plt # для графиков\n",
        "\n",
        "def scrape_text_from_url(url, tag, class_=None):\n",
        "    response = requests.get(url)\n",
        "    if response.status_code == 200:\n",
        "        soup = BeautifulSoup(response.content, 'html.parser') #парсим html\n",
        "        paragraphs = soup.find_all(tag, class_)\n",
        "        text = ''\n",
        "        for p in paragraphs:\n",
        "            for unwanted in p.find_all(['math', 'sup', 'sub']): #я пробовала без этого цикла, был очень странный вывод, погуглила - оказалось, это из-за отсутствия фильтрации\n",
        "                unwanted.decompose()\n",
        "            text += p.get_text() + \"\\n\"\n",
        "        return text\n",
        "    else:\n",
        "        print(f\"Не удалось загрузить страницу. Ошибка {response.status_code}\") #если ошибка запроса\n",
        "        return None #мы загрузили текст с веб страницы, отфильтровали теги, которые не нужны, вернули чистый текст\n",
        "\n",
        "result = scrape_text_from_url('https://en.wikipedia.org/wiki/Chomsky_hierarchy', 'p') #отскрейпили статью\n",
        "print(result)\n",
        "\n",
        "with open('neg.txt') as f:\n",
        "    neg_list = f.read().splitlines() #загрузили информацию из текстовых файлов в список позитивных и негативных слов\n",
        "with open('pos.txt') as f:\n",
        "    pos_list = f.read().splitlines()\n",
        "\n",
        "print(pos_list[:10]) #проверили\n",
        "\n",
        "nlp = spacy.load(\"en_core_web_sm\")\n",
        "\n",
        "def analyze_sentiment(text, positive_words, negative_words):\n",
        "    doc = nlp(text.lower())\n",
        "    words = [token.text for token in doc if not token.is_stop and not token.is_punct] #удалили пунктуацию и стоп слова\n",
        "    positive_count = sum(1 for word in words if word in positive_words)\n",
        "    negative_count = sum(1 for word in words if word in negative_words)\n",
        "    if positive_count > negative_count:\n",
        "        return 'positive'\n",
        "    elif negative_count > positive_count:\n",
        "        return 'negative'\n",
        "    else:\n",
        "        return 'neutral' #сравнили количество позитивного и негативного, чтобы понять общую тональность текста\n",
        "\n",
        "result1 = analyze_sentiment('This sample text is awesome!', pos_list, neg_list)\n",
        "print(result1) #проверили\n",
        "\n",
        "def analyze(positive_words, negative_words, url, tag, class_=None):\n",
        "    scraped_text = scrape_text_from_url(url, tag, class_)\n",
        "    if not scraped_text:\n",
        "        return []\n",
        "    sentences = [sentence.strip() for sentence in scraped_text.split('.') if sentence.strip()]\n",
        "    sentiments = []\n",
        "    for sentence in sentences:\n",
        "        score = analyze_sentiment(sentence, positive_words, negative_words)\n",
        "        sentiments.append(score)\n",
        "    return sentiments\n",
        "print(analyze(url='https://www.rottentomatoes.com/m/civil_war_2024/reviews', tag='p', class_='review-text', positive_words=pos, negative_words=neg)[:10]) #раделили текст со страницы на предложения и провели у них сентимент анализ\n",
        "\n",
        "sample1 = Counter(analyze(pos, neg, url='https://en.wikipedia.org/wiki/Yiddish', tag='p'))\n",
        "sample2 = Counter(analyze(pos, neg, url='https://en.wikipedia.org/wiki/Judaeo-Spanish', tag='p')) #для обеих страниц анализируем тональность каждого предложения и считаем результат\n",
        "print(sample1)\n",
        "print(sample2)\n",
        "\n",
        "df1 = pd.DataFrame.from_dict(sample1, orient='index', columns=['Yiddish'])\n",
        "df2 = pd.DataFrame.from_dict(sample2, orient='index', columns=['Ladino']) #заносим в табличку информацию по позитиву, негативу и нейтралу из статей про идиш и ладино\n",
        "\n",
        "fig, ax = plt.subplots(ncols=2, figsize=(10, 5))\n",
        "df1.plot.bar(ax=ax[0], title='Yiddish Sentiments')\n",
        "df2.plot.bar(ax=ax[1], color='orange', title='Ladino Sentiments') #рисуем два графика. в тексте про идиш и позитива, и негатива больше:(\n",
        "plt.tight_layout()\n",
        "plt.show()\n"
      ],
      "metadata": {
        "id": "mU0kfLfvbq0-",
        "colab": {
          "base_uri": "https://localhost:8080/",
          "height": 1000
        },
        "outputId": "dc460098-6f44-4818-f20e-8d46d1a3f6fb"
      },
      "execution_count": 50,
      "outputs": [
        {
          "output_type": "stream",
          "name": "stdout",
          "text": [
            "The Chomsky hierarchy in the fields of formal language theory, computer science, and linguistics, is a containment hierarchy of classes of formal grammars. A formal grammar describes how to form strings from a language's vocabulary (or alphabet) that are valid according to the language's syntax. The linguist Noam Chomsky theorized that four different classes of formal grammars existed that could generate increasingly complex languages. Each class can also completely generate the language of all inferior classes (set inclusive).\n",
            "\n",
            "The general idea of a hierarchy of grammars was first described by Noam Chomsky in \"Three models for the description of language\" during the formalization of transformational-generative grammar (TGG). Marcel-Paul Schützenberger also played a role in the development of the theory of formal languages; the paper \"The algebraic theory of context free languages\" describes the modern hierarchy, including context-free grammars.\n",
            "\n",
            "Independently, alongside linguists, mathematicians were developing models of computation (via automata). Parsing a sentence in a language is similar to computation, and the grammars described by Chomsky proved to both resemble and be equivalent in computational power to various machine models.\n",
            "\n",
            "The following table summarizes each of Chomsky's four types of grammars, the class of language it generates, the type of automaton that recognizes it, and the form its rules must have. The classes are defined by the constraints on the productions rules.\n",
            "\n",
            "Note that the set of grammars corresponding to recursive languages is not a member of this hierarchy; these would be properly between Type-0 and Type-1.\n",
            "\n",
            "Every regular language is context-free, every context-free language is context-sensitive, every context-sensitive language is recursive and every recursive language is recursively enumerable. These are all proper inclusions, meaning that there exist recursively enumerable languages that are not context-sensitive, context-sensitive languages that are not context-free and context-free languages that are not regular.\n",
            "\n",
            "Type-3 grammars generate the regular languages. Such a grammar restricts its rules to a single nonterminal on the left-hand side and a right-hand side consisting of a single terminal, possibly followed by a single nonterminal, in which case the grammar is right regular. Alternatively, all the rules can have their right-hand sides consist of a single terminal, possibly preceded by a single nonterminal (left regular). These generate the same languages. However, if left-regular rules and right-regular rules are combined, the language need no longer be regular. The rule  is also allowed here if  does not appear on the right side of any rule. These languages are exactly all languages that can be decided by a finite-state automaton. Additionally, this family of formal languages can be obtained by regular expressions. Regular languages are commonly used to define search patterns and the lexical structure of programming languages.\n",
            "\n",
            "For example, the regular language  is generated by the Type-3 grammar  with the productions  being the following.\n",
            "\n",
            "Type-2 grammars generate the context-free languages. These are defined by rules of the form  with  being a nonterminal and  being a string of terminals and/or nonterminals. These languages are exactly all languages that can be recognized by a non-deterministic pushdown automaton. Context-free languages—or rather its subset of deterministic context-free languages—are the theoretical basis for the phrase structure of most programming languages, though their syntax also includes context-sensitive name resolution due to declarations and scope. Often a subset of grammars is used to make parsing easier, such as by an LL parser.\n",
            "\n",
            "For example, the context-free language   is generated by the Type-2 grammar  with the productions  being the following.\n",
            "\n",
            "The language is context-free but not regular (by the pumping lemma for regular languages).\n",
            "\n",
            "Type-1 grammars generate context-sensitive languages. These grammars have rules of the form  with  a nonterminal and ,  and  strings of terminals and/or nonterminals. The strings  and  may be empty, but  must be nonempty.  The rule  is allowed if  does not appear on the right side of any rule.  The languages described by these grammars are exactly all languages that can be recognized by a linear bounded automaton (a nondeterministic Turing machine whose tape is bounded by a constant times the length of the input.)\n",
            "\n",
            "For example, the context-sensitive language   is generated by the Type-1 grammar  with the productions  being the following.\n",
            "\n",
            "The language is context-sensitive but not context-free (by the pumping lemma for context-free languages).\n",
            "A proof that this grammar generates  is sketched in the article on Context-sensitive grammars.\n",
            "\n",
            "Type-0 grammars include all formal grammars. There are no constraints on the productions rules. They generate exactly all languages that can be recognized by a Turing machine, thus any language that is possible to be generated can be generated by a Type-0 grammar. These languages are also known as the recursively enumerable or Turing-recognizable languages. Note that this is different from the recursive languages, which can be decided by an always-halting Turing machine.\n",
            "\n",
            "\n",
            "['a+', 'abound', 'abounds', 'abundance', 'abundant', 'accessable', 'accessible', 'acclaim', 'acclaimed', 'acclamation']\n",
            "positive\n",
            "['negative', 'neutral', 'negative', 'negative', 'neutral', 'neutral', 'negative', 'neutral', 'negative', 'negative']\n",
            "Counter({'neutral': 173, 'negative': 141, 'positive': 77})\n",
            "Counter({'neutral': 127, 'negative': 107, 'positive': 60})\n"
          ]
        },
        {
          "output_type": "display_data",
          "data": {
            "text/plain": [
              "<Figure size 1000x500 with 2 Axes>"
            ],
            "image/png": "[encoded data removed]"
          },
          "metadata": {}
        }
      ]
    }
  ]
}