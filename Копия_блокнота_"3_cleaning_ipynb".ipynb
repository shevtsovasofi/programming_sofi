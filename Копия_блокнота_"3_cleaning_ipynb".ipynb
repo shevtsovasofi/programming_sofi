{
  "nbformat": 4,
  "nbformat_minor": 0,
  "metadata": {
    "colab": {
      "provenance": [],
      "include_colab_link": true
    },
    "kernelspec": {
      "name": "python3",
      "display_name": "Python 3"
    },
    "language_info": {
      "name": "python"
    }
  },
  "cells": [
    {
      "cell_type": "markdown",
      "metadata": {
        "id": "view-in-github",
        "colab_type": "text"
      },
      "source": [
        "<a href=\"https://colab.research.google.com/github/shevtsovasofi/programming_sofi/blob/main/%D0%9A%D0%BE%D0%BF%D0%B8%D1%8F_%D0%B1%D0%BB%D0%BE%D0%BA%D0%BD%D0%BE%D1%82%D0%B0_%223_cleaning_ipynb%22.ipynb\" target=\"_parent\"><img src=\"https://colab.research.google.com/assets/colab-badge.svg\" alt=\"Open In Colab\"/></a>"
      ]
    },
    {
      "cell_type": "markdown",
      "source": [
        "**Data Cleaning** (чистка данных) - этап предварительной обработки данных для анализа данных и машинного обучения.\n",
        "\n",
        "**Примеры Data Cleaning:**\n",
        "- удаление избыточных столбцов из табличных данных;\n",
        "- приведение текста к нижнему регистру;\n",
        "- чистка текста от HTML-артефактов\n",
        "\n",
        "Загрузим тренировочный датасет, почистим его и проанализируем результаты."
      ],
      "metadata": {
        "id": "Vl6M3rDU5XhG"
      }
    },
    {
      "cell_type": "markdown",
      "source": [
        "# Задание 1: Загрузка данных\n",
        "\n",
        "Загрузим тренировочный датасет и посмотрим на наши данные.\n",
        "\n",
        "Представим, что мы загрузили статью в формате HTML.\n",
        "\n",
        "Скачаем ее и выведем на экран первые 100 символов с помощью слайсинга (среза)."
      ],
      "metadata": {
        "id": "LK_zsNv26Tsk"
      }
    },
    {
      "cell_type": "code",
      "source": [
        "# загружаем тренировочные данные\n",
        "!wget https://raw.githubusercontent.com/vifirsanova/hse-python-course/main/data/data_cleaning.txt"
      ],
      "metadata": {
        "colab": {
          "base_uri": "https://localhost:8080/"
        },
        "id": "tbak8zIx8i6_",
        "outputId": "5e483167-f7c3-429b-c0ee-d7ad0f9bca3e"
      },
      "execution_count": 6,
      "outputs": [
        {
          "output_type": "stream",
          "name": "stdout",
          "text": [
            "--2024-10-09 10:48:53--  https://raw.githubusercontent.com/vifirsanova/hse-python-course/main/data/data_cleaning.txt\n",
            "Resolving raw.githubusercontent.com (raw.githubusercontent.com)... 185.199.108.133, 185.199.109.133, 185.199.110.133, ...\n",
            "Connecting to raw.githubusercontent.com (raw.githubusercontent.com)|185.199.108.133|:443... connected.\n",
            "HTTP request sent, awaiting response... 200 OK\n",
            "Length: 2377 (2.3K) [text/plain]\n",
            "Saving to: ‘data_cleaning.txt’\n",
            "\n",
            "\rdata_cleaning.txt     0%[                    ]       0  --.-KB/s               \rdata_cleaning.txt   100%[===================>]   2.32K  --.-KB/s    in 0s      \n",
            "\n",
            "2024-10-09 10:48:53 (40.1 MB/s) - ‘data_cleaning.txt’ saved [2377/2377]\n",
            "\n"
          ]
        }
      ]
    },
    {
      "cell_type": "code",
      "source": [
        "# запишем данные в переменную data\n",
        "with open('data_cleaning.txt', 'r') as f:\n",
        "  data = f.read()"
      ],
      "metadata": {
        "id": "OJ68oc8E8r9P"
      },
      "execution_count": 7,
      "outputs": []
    },
    {
      "cell_type": "code",
      "source": [
        "# выведите на экран первые 100 символов с помощью слайсинга\n",
        "print(data[0: 101])"
      ],
      "metadata": {
        "colab": {
          "base_uri": "https://localhost:8080/"
        },
        "id": "EZ9GtP8s86V8",
        "outputId": "88088b9a-4904-4add-a869-382fa45b1945"
      },
      "execution_count": 8,
      "outputs": [
        {
          "output_type": "stream",
          "name": "stdout",
          "text": [
            "<!DOCTYPE html>\n",
            "<html>\n",
            "<head>\n",
            "    <title>Sample HTML Document</title>\n",
            "</head>\n",
            "<body>\n",
            "    <h1>Welcome \n"
          ]
        }
      ]
    },
    {
      "cell_type": "markdown",
      "source": [
        "# Задание 2: Удаление артефактов\n",
        "\n",
        "В данных много артефактов - HTML-тегов.\n",
        "\n",
        "Удалим HTML-артефакты с помощью регулярных выражений RegEx"
      ],
      "metadata": {
        "id": "XIGQ9xGQ6t1U"
      }
    },
    {
      "cell_type": "code",
      "source": [
        "# пропишем паттерн для поиска HTML-тегов вида <tag> ... </tag>\n",
        "import re   # загрузим библиотеку для обработки регулярных выражений\n",
        "\n",
        "tag_pattern = r'<[^>]+>'    # паттерн для поиска тегов"
      ],
      "metadata": {
        "id": "aQ0ka1oq9uVz"
      },
      "execution_count": 9,
      "outputs": []
    },
    {
      "cell_type": "markdown",
      "source": [
        "Используйте функцию `re.sub` (substitution) для чистки данных\n",
        "\n",
        "`re.sub` ищет в строке `string` соответствия RegEx-паттерну `pattern` и меняет найденное на указанную строку `repl`\n",
        "\n",
        "Как используем функцию: `re.sub(pattern, repl, string)`\n",
        "\n",
        "- `pattern` - паттерн RegEx, соответствия которому будет искать функция\n",
        "- `repl` - на что будем менять найденные соответствия\n",
        "- `string` - где будем искать, наш датасет\n",
        "\n",
        "Запишите результат в переменную `clean_text` и выведите на экран с 720-го по 800-ый символ очищенного текста\n",
        "\n",
        "Используйте слайсинг"
      ],
      "metadata": {
        "id": "h8oleHAo_UaY"
      }
    },
    {
      "cell_type": "code",
      "source": [
        "# Подсказки:\n",
        "# используйте паттерн, записанный в переменную tag_pattern\n",
        "# замените результат на пустую строку \"\"\n",
        "### ваш код здесь: примените re.sub ###\n",
        "data = re.sub(tag_pattern, '', data)\n",
        "### ваш код здесь: выведите результат с 720-го по 800-ый символ ###\n",
        "print(data[720:801])"
      ],
      "metadata": {
        "colab": {
          "base_uri": "https://localhost:8080/"
        },
        "id": "DjqjGi8P-H6O",
        "outputId": "31a2b427-d2db-465a-fbe5-5f5994e999e7"
      },
      "execution_count": 10,
      "outputs": [
        {
          "output_type": "stream",
          "name": "stdout",
          "text": [
            " It's crucial to handle HTML entities such as &lt;div&gt;, &lt;p&gt;, &amp;, etc.\n"
          ]
        }
      ]
    },
    {
      "cell_type": "markdown",
      "source": [
        "Мы удалили не все специальные символы HTML\n",
        "\n",
        "Создадим еще один паттерн и повторим процедуру"
      ],
      "metadata": {
        "id": "fZAWGBC7Ajr7"
      }
    },
    {
      "cell_type": "code",
      "source": [
        "symbols_pattern = r'&\\w+;'    # паттерн для поиска специальных символов"
      ],
      "metadata": {
        "id": "jIftruIgBuQj"
      },
      "execution_count": 11,
      "outputs": []
    },
    {
      "cell_type": "markdown",
      "source": [
        "Используйте `re.sub` для удаления этих символов\n",
        "\n",
        "Теперь функция принимает на вход паттерн `symbols_pattern` и текст `clean_text`\n",
        "\n",
        "Перезапишите переменную `clean_text`\n",
        "\n",
        "Выведите на экран с 720-го по 800-ый символ, чтобы убедиться в том, что чистка прошла успешно"
      ],
      "metadata": {
        "id": "LJ19ehiFB5d6"
      }
    },
    {
      "cell_type": "code",
      "source": [
        "### ваш код здесь: примените re.sub ###\n",
        "clean_text=re.sub(symbols_pattern,'', data)\n",
        "### ваш код здесь: выведите результат с 720-го по 800-ый символ ###\n",
        "print(clean_text[720:801])"
      ],
      "metadata": {
        "colab": {
          "base_uri": "https://localhost:8080/"
        },
        "id": "UsX39hWDCLR6",
        "outputId": "55cb706b-2521-4b8e-fe52-ab9fc5dd44ef"
      },
      "execution_count": 12,
      "outputs": [
        {
          "output_type": "stream",
          "name": "stdout",
          "text": [
            " It's crucial to handle HTML entities such as div, p, , etc. HTML entities are sp\n"
          ]
        }
      ]
    },
    {
      "cell_type": "markdown",
      "source": [
        "В нашем тексте остались двойные пробелы\n",
        "\n",
        "Уберем им с помощью очередного паттерна"
      ],
      "metadata": {
        "id": "mP70Rf3oCKNZ"
      }
    },
    {
      "cell_type": "code",
      "source": [
        "\n",
        "# выведите на экран первые 100 символов вашего текущего результата\n",
        "# на этот раз не используйте print\n",
        "### ваш код здесь\n",
        "import sys\n",
        "sys.stdout.write(clean_text[:100])\n",
        "\n"
      ],
      "metadata": {
        "colab": {
          "base_uri": "https://localhost:8080/"
        },
        "id": "GMGJDpaEDHx5",
        "outputId": "833c563f-3d51-4d11-b012-2c0e264c1c3c"
      },
      "execution_count": 13,
      "outputs": [
        {
          "output_type": "stream",
          "name": "stdout",
          "text": [
            "\n",
            "\n",
            "\n",
            "    Sample HTML Document\n",
            "\n",
            "\n",
            "    Welcome to Data Cleaning\n",
            "    This is a sample paragraph with HTML "
          ]
        }
      ]
    },
    {
      "cell_type": "markdown",
      "source": [
        "Создаем паттерн для поиска двойных пробелов\n",
        "\n",
        "Повторите процедуру, перезапишите результат в `clean_text` и выведите первые 100 символов\n",
        "\n",
        "Что мы запишем в переменную `repl`, чтобы не удалить абсолютно все пробелы?"
      ],
      "metadata": {
        "id": "GpgXBzMxDicX"
      }
    },
    {
      "cell_type": "code",
      "source": [
        "space_pattern = r'\\s+'\n",
        "clean_text = re.sub(space_pattern, ' ', clean_text)\n",
        "import sys\n",
        "sys.stdout.write(clean_text[:100])\n",
        "\n",
        "### ваш код здесь: примените re.sub ###\n",
        "### ваш код здесь: выведите первые 100 символов, не используя print ###"
      ],
      "metadata": {
        "colab": {
          "base_uri": "https://localhost:8080/"
        },
        "id": "aQ-ZqbEcDcIE",
        "outputId": "a79f2e62-19a9-4d0d-cab7-da2b8b1b57b0"
      },
      "execution_count": 14,
      "outputs": [
        {
          "output_type": "stream",
          "name": "stdout",
          "text": [
            " Sample HTML Document Welcome to Data Cleaning This is a sample paragraph with HTML artifacts such a"
          ]
        }
      ]
    },
    {
      "cell_type": "markdown",
      "source": [
        "# Задание 3: Смена регистра\n",
        "\n",
        "Приведем все слова к нижнему регистру с помощью функции `lower`\n",
        "\n",
        "Запишем результат в переменную `text_lower` и выведем на экран последние 100 символов"
      ],
      "metadata": {
        "id": "Hwtj4l2x6bwS"
      }
    },
    {
      "cell_type": "code",
      "source": [
        "### ваш код здесь: примените lower к clean_text ###\n",
        "text_lower = clean_text.lower()\n",
        "lower_100 = text_lower[:100]\n",
        "print(lower_100)\n",
        "### ваш код здесь: выведите первые 100 символов с конца, используйте слайсинг и не забудьте про - ###"
      ],
      "metadata": {
        "colab": {
          "base_uri": "https://localhost:8080/"
        },
        "id": "NbmH8JL0EPeg",
        "outputId": "a460b797-6953-438f-9e62-50b2fa428a39"
      },
      "execution_count": 56,
      "outputs": [
        {
          "output_type": "stream",
          "name": "stdout",
          "text": [
            " sample html document welcome to data cleaning this is a sample paragraph with html artifacts such a\n"
          ]
        }
      ]
    },
    {
      "cell_type": "markdown",
      "source": [
        "# Задание 4: Удаление стоп-слов\n",
        "\n",
        "Удалим частотные слова, которые создают шум для решения задач\n",
        "\n",
        "Загрузим список стоп-слов"
      ],
      "metadata": {
        "id": "xBsQkC6CoTuz"
      }
    },
    {
      "cell_type": "code",
      "source": [
        "!wget https://raw.githubusercontent.com/vifirsanova/hse-python-course/main/data/stopwords.txt"
      ],
      "metadata": {
        "colab": {
          "base_uri": "https://localhost:8080/"
        },
        "id": "8ypsKpKBE6T-",
        "outputId": "ecc51352-18d9-4816-ee33-cb81682fa35c"
      },
      "execution_count": 16,
      "outputs": [
        {
          "output_type": "stream",
          "name": "stdout",
          "text": [
            "--2024-10-09 10:48:54--  https://raw.githubusercontent.com/vifirsanova/hse-python-course/main/data/stopwords.txt\n",
            "Resolving raw.githubusercontent.com (raw.githubusercontent.com)... 185.199.108.133, 185.199.110.133, 185.199.111.133, ...\n",
            "Connecting to raw.githubusercontent.com (raw.githubusercontent.com)|185.199.108.133|:443... connected.\n",
            "HTTP request sent, awaiting response... 200 OK\n",
            "Length: 954 [text/plain]\n",
            "Saving to: ‘stopwords.txt’\n",
            "\n",
            "\rstopwords.txt         0%[                    ]       0  --.-KB/s               \rstopwords.txt       100%[===================>]     954  --.-KB/s    in 0s      \n",
            "\n",
            "2024-10-09 10:48:54 (45.1 MB/s) - ‘stopwords.txt’ saved [954/954]\n",
            "\n"
          ]
        }
      ]
    },
    {
      "cell_type": "code",
      "source": [
        "# запишем данные в переменную stopwords\n",
        "with open('stopwords.txt', 'r') as f:\n",
        "  stopwords = f.read().split()"
      ],
      "metadata": {
        "id": "_c1xfdkgFNcg"
      },
      "execution_count": 17,
      "outputs": []
    },
    {
      "cell_type": "markdown",
      "source": [
        "Выведите на экран первые 10 стоп-слов"
      ],
      "metadata": {
        "id": "nansznnrFVN-"
      }
    },
    {
      "cell_type": "code",
      "source": [
        "print(stopwords[0:10])\n"
      ],
      "metadata": {
        "colab": {
          "base_uri": "https://localhost:8080/"
        },
        "id": "Pctau5NgFYJG",
        "outputId": "25192ce3-ead5-456b-dfd0-5255a3a9a36c"
      },
      "execution_count": 18,
      "outputs": [
        {
          "output_type": "stream",
          "name": "stdout",
          "text": [
            "['a', 'about', 'above', 'after', 'again', 'against', 'all', 'am', 'an', 'and']\n"
          ]
        }
      ]
    },
    {
      "cell_type": "markdown",
      "source": [
        "С помощью `random` мы можем \"вытянуть\" из списка стоп-слов случайное слово"
      ],
      "metadata": {
        "id": "7C4R5y63Fqrl"
      }
    },
    {
      "cell_type": "code",
      "source": [
        "import random\n",
        "random.choice(stopwords)"
      ],
      "metadata": {
        "colab": {
          "base_uri": "https://localhost:8080/",
          "height": 35
        },
        "id": "8SX-lcCAFjNc",
        "outputId": "caed0a5c-213e-4f9a-866f-3c677916933e"
      },
      "execution_count": 19,
      "outputs": [
        {
          "output_type": "execute_result",
          "data": {
            "text/plain": [
              "'been'"
            ],
            "application/vnd.google.colaboratory.intrinsic+json": {
              "type": "string"
            }
          },
          "metadata": {},
          "execution_count": 19
        }
      ]
    },
    {
      "cell_type": "markdown",
      "source": [
        "\"Вытяните\" еще одно случайное слово и запишите его в переменную `random_word`"
      ],
      "metadata": {
        "id": "tPDPQYYTFwsM"
      }
    },
    {
      "cell_type": "code",
      "source": [
        "random_word=random.choice(stopwords)\n",
        "print(random_word)"
      ],
      "metadata": {
        "id": "oJkDb27LF75t",
        "outputId": "b1a2b5d1-0dbe-421d-891c-00448773b10c",
        "colab": {
          "base_uri": "https://localhost:8080/"
        }
      },
      "execution_count": 20,
      "outputs": [
        {
          "output_type": "stream",
          "name": "stdout",
          "text": [
            "when\n"
          ]
        }
      ]
    },
    {
      "cell_type": "markdown",
      "source": [
        "Проверьте, есть ли это слово в `text_lower` с помощью `in`\n",
        "\n",
        "Выведите на экран это слово"
      ],
      "metadata": {
        "id": "erv_tjszGZlo"
      }
    },
    {
      "cell_type": "code",
      "source": [
        "### ваш код здесь: вывод на экран текста \"Результат проверки:\" и проверки с in ###\n",
        "if random_word in text_lower:\n",
        "  print(\"Результат проверки: Случайное слово:\", random_word)\n",
        "else:\n",
        "  print('Результат проверки: Нет')\n",
        "### ваш код здесь: вывод текста \"Случайное слово:\" и random_word ###"
      ],
      "metadata": {
        "colab": {
          "base_uri": "https://localhost:8080/"
        },
        "id": "j2NJtaSOGBDT",
        "outputId": "9500e04f-8447-4d4b-95ee-30424fc83e96"
      },
      "execution_count": 21,
      "outputs": [
        {
          "output_type": "stream",
          "name": "stdout",
          "text": [
            "Результат проверки: Нет\n"
          ]
        }
      ]
    },
    {
      "cell_type": "markdown",
      "source": [
        "Попробуйте сгенерировать еще несколько слов и проверить их наличие в `text_lower`\n",
        "\n",
        "Для этого запустите повторно две последние ячейки"
      ],
      "metadata": {
        "id": "VBJJHLvrHCCO"
      }
    },
    {
      "cell_type": "code",
      "source": [
        "\"\"\"\n",
        "Вот так будет выглядеть текст после удаления стоп-слов _без_ токенизации\n",
        "Заменятся все аналогичные сочетания знаков\n",
        "Поэтому перед _удалением_ стоп-слов, проведем токенизацию\n",
        "\"\"\""
      ],
      "metadata": {
        "colab": {
          "base_uri": "https://localhost:8080/",
          "height": 52
        },
        "id": "gY7oeXTXGW0D",
        "outputId": "4e1849fb-2d95-499b-a33d-9facd46bcbe5"
      },
      "execution_count": 22,
      "outputs": [
        {
          "output_type": "execute_result",
          "data": {
            "text/plain": [
              "'\\nВот так будет выглядеть текст после удаления стоп-слов _без_ токенизации\\nЗаменятся все аналогичные сочетания знаков\\nПоэтому перед _удалением_ стоп-слов, проведем токенизацию\\n'"
            ],
            "application/vnd.google.colaboratory.intrinsic+json": {
              "type": "string"
            }
          },
          "metadata": {},
          "execution_count": 22
        }
      ]
    },
    {
      "cell_type": "markdown",
      "source": [
        "# Задание 5: Токенизация\n",
        "\n",
        "Токенизируем датасет для дальнейшей работы\n",
        "\n",
        "Создадим 2 набора токенов: с сегментацией по предложениям и с сегментацией по словам"
      ],
      "metadata": {
        "id": "Mepvb0Kw7Ncq"
      }
    },
    {
      "cell_type": "markdown",
      "source": [
        "Создайте переменную `sentences`\n",
        "\n",
        "С помощью `split` разделите текст на предложения (сегменты, разделенные знаком `.`)\n",
        "\n",
        "Выведите на экран первые 10 элементов `sentences`"
      ],
      "metadata": {
        "id": "Me63a7SNLa6C"
      }
    },
    {
      "cell_type": "code",
      "source": [
        "### ваш код здесь: split для сегментации по знаку `.` ###\n",
        "sentences = text_lower.split('.')\n",
        "for i in range(min(10, len(sentences))):\n",
        "    print(sentences[i])\n",
        "### вывод на экран первых 10 предложений ###"
      ],
      "metadata": {
        "colab": {
          "base_uri": "https://localhost:8080/"
        },
        "id": "8G13fM_27M1t",
        "outputId": "aff6e410-04b6-4278-f18a-bf33512adf17"
      },
      "execution_count": 26,
      "outputs": [
        {
          "output_type": "stream",
          "name": "stdout",
          "text": [
            " sample html document welcome to data cleaning this is a sample paragraph with html artifacts such as bold and italic text\n",
            " data cleaning is an essential process in preparing data for analysis\n",
            " it involves various techniques to clean, transform, and preprocess data\n",
            " in data cleaning, it's important to remove stop words like \"the\", \"and\", \"of\", etc\n",
            " stop words are common words that are often filtered out from text data because they do not carry significant meaning\n",
            " here's another paragraph\n",
            " sometimes text is in uppercase or lowercase\n",
            " it's important to standardize the text case to ensure consistency in the dataset\n",
            " this can be achieved by converting all text to lowercase or uppercase\n",
            " it's crucial to handle html entities such as div, p, , etc\n"
          ]
        }
      ]
    },
    {
      "cell_type": "markdown",
      "source": [
        "Создайте переменную `tokens`\n",
        "\n",
        "С помощью `split` разделите текст `text_lower` на слова\n",
        "\n",
        "Выведите первые 10 элементов"
      ],
      "metadata": {
        "id": "6J_C8cq0L2rB"
      }
    },
    {
      "cell_type": "code",
      "source": [
        "### ваш код здесь: split для сегментации по пробелу ###\n",
        "tokens = text_lower.split(' ')\n",
        "for i in range(min(10, len(tokens))):\n",
        "    print(tokens[i])\n",
        "### ваш код здесь: вывод на экран первых 10 слов ###"
      ],
      "metadata": {
        "id": "Rj3dXh576a5A",
        "colab": {
          "base_uri": "https://localhost:8080/"
        },
        "outputId": "12ffc49b-423c-463b-e13a-605f31a12db2"
      },
      "execution_count": 29,
      "outputs": [
        {
          "output_type": "stream",
          "name": "stdout",
          "text": [
            "\n",
            "sample\n",
            "html\n",
            "document\n",
            "welcome\n",
            "to\n",
            "data\n",
            "cleaning\n",
            "this\n",
            "is\n"
          ]
        }
      ]
    },
    {
      "cell_type": "markdown",
      "source": [
        " Удалим стоп-слова"
      ],
      "metadata": {
        "id": "5Q7FfNK9MJ_K"
      }
    },
    {
      "cell_type": "code",
      "source": [
        "clean_tokens = []\n",
        "\n",
        "for token in tokens:  # итерация по списку токенов tokens\n",
        "  if token not in stopwords:  # проверяем отсутствие токена в списке стоп-слов\n",
        "    clean_tokens.append(token)  # добавляем токен в новый очищенный список токенов, если его нет в стоп-словах\n",
        "for i in range(min(10, len(clean_tokens))):\n",
        "    print(clean_tokens[i])\n",
        "### ваш код здесь: вывод на экран первых 10 элементов clean_tokens ###"
      ],
      "metadata": {
        "colab": {
          "base_uri": "https://localhost:8080/"
        },
        "id": "QMy-_DNJ0HF3",
        "outputId": "a9c3c58a-664e-4404-f2d2-04f0e22921e3"
      },
      "execution_count": 30,
      "outputs": [
        {
          "output_type": "stream",
          "name": "stdout",
          "text": [
            "\n",
            "sample\n",
            "html\n",
            "document\n",
            "welcome\n",
            "data\n",
            "cleaning\n",
            "sample\n",
            "paragraph\n",
            "html\n"
          ]
        }
      ]
    },
    {
      "cell_type": "markdown",
      "source": [
        "# И еще одно задание...\n",
        "\n",
        "В ячейке ниже вы сможете загрузить еще один текст\n",
        "\n",
        "Используйте свой код и код из задания, чтобы\n",
        "\n",
        "1. удалить артефакты (html-теги, специальные символы и двойные пробелы)\n",
        "\n",
        "2. привести текст к нижнему регистру\n",
        "\n",
        "3. токенизировать текст по предложениям\n",
        "\n",
        "4. токенизировать текст по словам\n",
        "\n",
        "5. удалить стоп-слова"
      ],
      "metadata": {
        "id": "0EYfMpHZNUkA"
      }
    },
    {
      "cell_type": "code",
      "source": [
        "!wget https://raw.githubusercontent.com/vifirsanova/hse-python-course/main/extracurricular/artefacts.txt"
      ],
      "metadata": {
        "colab": {
          "base_uri": "https://localhost:8080/"
        },
        "id": "qE6b-OKsNqK_",
        "outputId": "d3919984-ac72-4faf-fffd-0a915ae7f086"
      },
      "execution_count": 32,
      "outputs": [
        {
          "output_type": "stream",
          "name": "stdout",
          "text": [
            "--2024-10-09 11:57:46--  https://raw.githubusercontent.com/vifirsanova/hse-python-course/main/extracurricular/artefacts.txt\n",
            "Resolving raw.githubusercontent.com (raw.githubusercontent.com)... 185.199.110.133, 185.199.109.133, 185.199.108.133, ...\n",
            "Connecting to raw.githubusercontent.com (raw.githubusercontent.com)|185.199.110.133|:443... connected.\n",
            "HTTP request sent, awaiting response... 200 OK\n",
            "Length: 845 [text/plain]\n",
            "Saving to: ‘artefacts.txt’\n",
            "\n",
            "\rartefacts.txt         0%[                    ]       0  --.-KB/s               \rartefacts.txt       100%[===================>]     845  --.-KB/s    in 0s      \n",
            "\n",
            "2024-10-09 11:57:46 (39.7 MB/s) - ‘artefacts.txt’ saved [845/845]\n",
            "\n"
          ]
        }
      ]
    },
    {
      "cell_type": "code",
      "source": [
        "# запишем данные в переменную artefacts\n",
        "with open('artefacts.txt', 'r') as f:\n",
        "  artefacts = f.read()"
      ],
      "metadata": {
        "id": "CT7eVLpHOMTQ"
      },
      "execution_count": 33,
      "outputs": []
    },
    {
      "cell_type": "code",
      "source": [
        "import re\n",
        "tag_pattern = r'<[^>]+>'\n",
        "artefacts = re.sub(tag_pattern, '', artefacts) #удалили часть тегов\n",
        "symbols_pattern = r'&\\w+;'\n",
        "clean_artefacts=re.sub(symbols_pattern,'', artefacts) #удалили еще теги\n",
        "print(clean_artefacts[:200]) #вывели текст, проверили, что артефакты удалились\n",
        "\n",
        "\n"
      ],
      "metadata": {
        "id": "9g-geUOsORlM",
        "colab": {
          "base_uri": "https://localhost:8080/"
        },
        "outputId": "52978e8b-5af0-436d-f06b-d879c869b8ce"
      },
      "execution_count": 36,
      "outputs": [
        {
          "output_type": "stream",
          "name": "stdout",
          "text": [
            "\n",
            "\n",
            "\n",
            "    Sample Web Page\n",
            "\n",
            "\n",
            "    Welcome to Our Website\n",
            "    This is some sample text on our website. You can contact us at info@example.com.\n",
            "\n",
            "    Latest News\n",
            "    \n",
            "        Breaking News: Important Announce\n",
            "\n",
            "\n",
            "\n",
            "    Sample Web Page\n",
            "\n",
            "\n",
            "    Welcome to Our Website\n",
            "    This is some sample text on our website. You can contact us at info@example.com.\n",
            "\n",
            "    Latest News\n",
            "    \n",
            "        Breaking News: Important Announce\n"
          ]
        }
      ]
    },
    {
      "cell_type": "code",
      "source": [
        "\n",
        "#теперь уберем двойные пробелы\n",
        "space_pattern = r'\\s+'\n",
        "artefacts = re.sub(space_pattern, ' ', clean_artefacts)\n",
        "print(clean_artefacts[:200])"
      ],
      "metadata": {
        "colab": {
          "base_uri": "https://localhost:8080/"
        },
        "id": "spXXxlZRJ4P7",
        "outputId": "7335d1a9-e746-496d-cb90-002a2c41ebee"
      },
      "execution_count": 37,
      "outputs": [
        {
          "output_type": "stream",
          "name": "stdout",
          "text": [
            "\n",
            "\n",
            "\n",
            "    Sample Web Page\n",
            "\n",
            "\n",
            "    Welcome to Our Website\n",
            "    This is some sample text on our website. You can contact us at info@example.com.\n",
            "\n",
            "    Latest News\n",
            "    \n",
            "        Breaking News: Important Announce\n"
          ]
        }
      ]
    },
    {
      "cell_type": "code",
      "source": [
        "artefacts_lower = clean_artefacts.lower()\n",
        "print(artefacts_lower[:200]) #теперь все в нижнем регистре"
      ],
      "metadata": {
        "colab": {
          "base_uri": "https://localhost:8080/"
        },
        "id": "fv5bPQwEKH-V",
        "outputId": "14f646fe-e653-48b3-ed17-7d29fb46e745"
      },
      "execution_count": 40,
      "outputs": [
        {
          "output_type": "stream",
          "name": "stdout",
          "text": [
            "\n",
            "\n",
            "\n",
            "    sample web page\n",
            "\n",
            "\n",
            "    welcome to our website\n",
            "    this is some sample text on our website. you can contact us at info@example.com.\n",
            "\n",
            "    latest news\n",
            "    \n",
            "        breaking news: important announce\n"
          ]
        }
      ]
    },
    {
      "cell_type": "code",
      "source": [
        "art_sentences = artefacts_lower.split('.')\n",
        "for i in range(5):\n",
        "    print(art_sentences[i]) #вывели 5 первых предложений для проверки правильности токенизации на предложения"
      ],
      "metadata": {
        "colab": {
          "base_uri": "https://localhost:8080/"
        },
        "id": "M05vS5-YKf4k",
        "outputId": "89e901f3-a458-4f3a-f440-8b1120251720"
      },
      "execution_count": 46,
      "outputs": [
        {
          "output_type": "stream",
          "name": "stdout",
          "text": [
            "\n",
            "\n",
            "\n",
            "    sample web page\n",
            "\n",
            "\n",
            "    welcome to our website\n",
            "    this is some sample text on our website\n",
            " you can contact us at info@example\n",
            "com\n",
            "\n",
            "\n",
            "    latest news\n",
            "    \n",
            "        breaking news: important announcement\n",
            "        lorem ipsum dolor sit amet, consectetur adipiscing elit\n",
            " vivamus lacinia, arcu in fermentum tincidunt\n"
          ]
        }
      ]
    },
    {
      "cell_type": "code",
      "source": [
        "art_tokens = artefacts_lower.split(' ')\n",
        "for i in range(5):\n",
        "    print(tokens[i]) #токенизация по словам работает"
      ],
      "metadata": {
        "colab": {
          "base_uri": "https://localhost:8080/"
        },
        "id": "WMJcbno-Lcnd",
        "outputId": "cec8266f-4b31-4bf9-d0f8-aec3e48eafca"
      },
      "execution_count": 47,
      "outputs": [
        {
          "output_type": "stream",
          "name": "stdout",
          "text": [
            "\n",
            "sample\n",
            "html\n",
            "document\n",
            "welcome\n"
          ]
        }
      ]
    },
    {
      "cell_type": "code",
      "source": [
        "clean_art_tokens = []\n",
        "for art_token in art_tokens:\n",
        "  if art_token not in stopwords:\n",
        "    clean_art_tokens.append(art_token)\n",
        "for i in range(10):\n",
        "    print(clean_art_tokens[i])"
      ],
      "metadata": {
        "colab": {
          "base_uri": "https://localhost:8080/"
        },
        "id": "x2yPEIKpL08z",
        "outputId": "eb1c5912-d08a-4aa9-8d6c-6d08e14318fa"
      },
      "execution_count": 55,
      "outputs": [
        {
          "output_type": "stream",
          "name": "stdout",
          "text": [
            "\n",
            "\n",
            "\n",
            "\n",
            "\n",
            "\n",
            "\n",
            "sample\n",
            "web\n",
            "page\n",
            "\n",
            "\n",
            "\n",
            "\n",
            "\n",
            "\n"
          ]
        }
      ]
    }
  ]
}